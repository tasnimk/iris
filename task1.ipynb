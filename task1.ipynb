{
 "cells": [
  {
   "cell_type": "markdown",
   "metadata": {},
   "source": [
    "# Iris Data Set  \n",
    "-----------------------------------------------------------------------------------\n",
    "The Iris dataset can be found on the [UCI Machine Learning Repository](http://archive.ics.uci.edu/ml/datasets/Iris). \n",
    "![title](iris-flowers.png)"
   ]
  },
  {
   "cell_type": "markdown",
   "metadata": {},
   "source": [
    "### Data Set Information:\n",
    "\n",
    "This is perhaps the best known database to be found in the pattern recognition literature. Fisher's paper is a classic in the field and is referenced frequently to this day. (See Duda & Hart, for example.) The data set contains 3 classes of 50 instances each, where each class refers to a type of iris plant. `One class is linearly separable from the other 2; the latter are NOT linearly separable from each other.` \n",
    "\n",
    "**_Predicted attribute: class of iris plant._**\n",
    "\n",
    "\n",
    "**Attribute Information:**\n",
    "\n",
    "- sepal length in cm \n",
    "- sepal width in cm \n",
    "- petal length in cm \n",
    "- petal width in cm \n",
    "- class: \n",
    "    - Iris Setosa \n",
    "    - Iris Versicolour \n",
    "    - Iris Virginica"
   ]
  },
  {
   "cell_type": "markdown",
   "metadata": {},
   "source": [
    "#### Mission: Download the dataset and try to predict the iris class using decision tree, also answer the following questions while working on each section.\n",
    "\n",
    "## Q1: This problem belongs to which type of machine learning? (supervised, unsupervised, reinforcement , .. etc)\n",
    "supervised\n",
    "## Q2: And to which category ? (Regression, Classification, Clustering, ...etc)\n",
    "classification"
   ]
  },
  {
   "cell_type": "code",
   "execution_count": null,
   "metadata": {},
   "outputs": [],
   "source": [
    "### Section 1:\n",
    "import libraries that you will need to achieve your task.\n",
    "\n",
    "import numpy as np \n",
    "import pandas as pd\n",
    "from matplotib import pyplot as plt \n",
    "from aklearn.tree import DecisionTreeClassifier \n",
    "from aklearn.cross.validation import train_test_split\n",
    "from aklearn.matrices import accuracy_score\n"
   ]
  },
  {
   "cell_type": "code",
   "execution_count": null,
   "metadata": {},
   "outputs": [],
   "source": [
    "### Section 2:\n",
    "- import your dataset using pandas.\n",
    "\n",
    "- explore your dataset in order to be familiar with it and build intuition.\n",
    "hint: exploration can be done by showing the data, describing them, maybe show some statistics ... do your best and always be curious :D\n",
    "\n",
    "irisData = pd.read_csv(\"C:\\Users\\HP\\Desktop\\iris.csv\")\n",
    "print irisData.head()\n",
    "print irisData.describe()\n",
    "print irisData.corr()\n",
    "features= irisData[[\"SepalLength\",\"SepalWidth\",\"PetalLength\",\"PetalWidth\"]]\n",
    "targetVariables = irisData.class\n",
    "        "
   ]
  },
  {
   "cell_type": "markdown",
   "metadata": {},
   "source": [
    "### Section 3:\n",
    "`One class is linearly separable from the other 2; the latter are NOT linearly separable from each other.` Remember this line in the description that you have ignored ? :P\n",
    "\n",
    "Now in order to understand what this line mean, please use a scatter plot to plot all 3 classes of iris in one plot putting 'Sepal length' on the X-axis and `Sepal width` on the Y-axis. Also give your plot a title cause clean code always pays off ;)\n",
    "\n",
    "## Q3: Now after finishing your awesome plot, what do you think the line that of the description mean? \n",
    "    "
   ]
  },
  {
   "cell_type": "code",
   "execution_count": null,
   "metadata": {},
   "outputs": [],
   "source": [
    "### Section 4:\n",
    "Now after we have explored and got familiar with the data before we start with our decision tree model, we need to split our dataset into a training and testing sets.\n",
    "we will do this using `train_test_split` function from `sklearn.cross_validation`\n",
    "\n",
    "Note: by convention we split our dataset into 70% training and 30% testing or 80% training and 20% testing ... let's stick with the 80-20% for now \n",
    "\n",
    "Typically, our data needs to be shuffled into a random order when creating the training and testing subsets to remove any bias in the ordering of the dataset; this ensures results are consistent.\n",
    "\n",
    "You will need to implement the following:\n",
    "- Use `train_test_split` from `sklearn.cross_validation` to shuffle and split the `features` and `class` data into training and testing sets.\n",
    "  - Split the data into 80% training and 20% testing.\n",
    "  - Set the `random_state` for `train_test_split` to a value of your choice. This ensures results are consistent.\n",
    "  \n",
    "  \n",
    "## Q4: shuffling data makes our dataset consistent, but in your opinion why do you think it's very important in that specific dataset?\n",
    "  you will get a cookie if you got this answer right ;)\n",
    "  \n",
    "\n",
    "featureTrain, featureTest, targetTrain, targetTest = train_test_split(features, targetVariables, test_size=.2)\n"
   ]
  },
  {
   "cell_type": "code",
   "execution_count": null,
   "metadata": {},
   "outputs": [],
   "source": [
    "### Section 5:\n",
    "- use `DecesionTreeClassifier` from `sklearn.tree` to classify and fit your data.\n",
    "- predict target output using the testing data that you have made during `train_test_split`\n",
    "\n",
    "model = DescisionTreeClassifier()\n",
    "fittedModel = model.fit(featureTrain, targetTrain)\n",
    "predictions = fittedModel.predict(featureTest)\n"
   ]
  },
  {
   "cell_type": "code",
   "execution_count": null,
   "metadata": {},
   "outputs": [],
   "source": [
    "### Section 6:\n",
    "in order to make sure that most of our predictions are correct, we need to calculate the accuracy of our prediction.\n",
    "\n",
    "using `acuracy_score` from `sklearn.metrics` please calculate your model accuracy.\n",
    "\n",
    "## Q5: What is your model accuracy ? what does it mean ?\n",
    "the cookie will be a chocolate chip one if you got the meaning right ;)\n",
    "\n",
    "\n",
    "print predictions\n",
    "print accuracy_score(targetTest,predictions)"
   ]
  },
  {
   "cell_type": "markdown",
   "metadata": {},
   "source": [
    "the accuracy is 0.933333 , from every 100 variable target we got 7 wrong predictions."
   ]
  }
 ],
 "metadata": {
  "kernelspec": {
   "display_name": "Python 3",
   "language": "python",
   "name": "python3"
  },
  "language_info": {
   "codemirror_mode": {
    "name": "ipython",
    "version": 3
   },
   "file_extension": ".py",
   "mimetype": "text/x-python",
   "name": "python",
   "nbconvert_exporter": "python",
   "pygments_lexer": "ipython3",
   "version": "3.6.5"
  }
 },
 "nbformat": 4,
 "nbformat_minor": 2
}
